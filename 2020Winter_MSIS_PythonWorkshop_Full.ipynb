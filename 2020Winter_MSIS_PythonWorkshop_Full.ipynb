{
 "cells": [
  {
   "cell_type": "markdown",
   "metadata": {
    "colab_type": "text",
    "id": "5I-2yXs3q5HL"
   },
   "source": [
    "## MSIS Python Workshop Winter 2020\n",
    "\n",
    "In the following examples, we will go over two omnipresent models in stat/machine learning. The purpose is to familiarize you with Python/stat/machine learning basics. If you are having trouble with anything, feel free to email me at xiyuange@uw.edu and I would definitely love to help out."
   ]
  },
  {
   "cell_type": "markdown",
   "metadata": {
    "colab_type": "text",
    "id": "p_sr0_UurLmX"
   },
   "source": [
    "## Part I: Linear Regression"
   ]
  },
  {
   "cell_type": "code",
   "execution_count": 1,
   "metadata": {
    "colab": {},
    "colab_type": "code",
    "id": "DgaRfWi-qrQw"
   },
   "outputs": [],
   "source": [
    "# import pandas using the conventional abbreviation\n",
    "import numpy as np\n",
    "import pandas as pd"
   ]
  },
  {
   "cell_type": "markdown",
   "metadata": {
    "colab_type": "text",
    "id": "PAoE6td7rZP7"
   },
   "source": [
    "### Import Data\n",
    "\n",
    "We can import structured data from many sources\n",
    "\n",
    "1) Import from URL\n",
    "\n",
    "or 2) Import locally \n",
    "\n",
    "or 3) Import from Google Drive"
   ]
  },
  {
   "cell_type": "code",
   "execution_count": 2,
   "metadata": {
    "colab": {},
    "colab_type": "code",
    "id": "V2Uh8kkyrSM6"
   },
   "outputs": [],
   "source": [
    "# import the data from an online resource\n",
    "ToyotaCorolla = pd.read_csv('https://www.biz.uiowa.edu/faculty/jledolter/datamining/ToyotaCorolla.csv')\n",
    "# import locally \n",
    "# pd.read_csv('/Users/xiyuange/Downloads/ToyotaCorolla.csv')"
   ]
  },
  {
   "cell_type": "markdown",
   "metadata": {
    "colab_type": "text",
    "id": "ULjHvrg_N1ZL"
   },
   "source": [
    " \n",
    "### Prediction on the sale price of a used automobile. \n",
    "\n",
    " \n",
    " Source: Ledolter (2013) Data Mingin and Business Analytics with R\n",
    "\n",
    " Description: The data set includes sale prices and vehicle characteristics \n",
    " of 1436 used Toyota Corollas.\n",
    " \n",
    "\n",
    "\n",
    " Price: Offer price in EUROs\n",
    " \n",
    " Age: Age in months as in August 2004\n",
    " \n",
    " KM: Accumulated kilometers on odometer\n",
    " \n",
    " FuelType: Fuel type (petrol, diesel, CNG)\n",
    " \n",
    " HP: Horsepower\n",
    " \n",
    " MetColor: Metallic color (Yes=1, No=0)\n",
    " \n",
    " Automatic: Automatic (Yes=1, No=0)\n",
    " \n",
    " CC: Cylinder volume in cubic centimeters\n",
    " \n",
    " Doors: Doors Number of doors\n",
    " \n",
    " Weight: Weight in kilograms"
   ]
  },
  {
   "cell_type": "markdown",
   "metadata": {
    "colab_type": "text",
    "id": "dzpDYDWFN1ZM"
   },
   "source": [
    "### Linear Regression\n",
    "\n",
    "We start with a linear model\n",
    "\n",
    "1) Specify the formula and data\n",
    "\n",
    "2) regress and output the result\n",
    "\n"
   ]
  },
  {
   "cell_type": "code",
   "execution_count": 7,
   "metadata": {},
   "outputs": [
    {
     "name": "stdout",
     "output_type": "stream",
     "text": [
      "Index(['Price', 'Age', 'KM', 'FuelType', 'HP', 'MetColor', 'Automatic', 'CC',\n",
      "       'Doors', 'Weight'],\n",
      "      dtype='object')\n",
      "              Price          Age             KM           HP     MetColor  \\\n",
      "count   1436.000000  1436.000000    1436.000000  1436.000000  1436.000000   \n",
      "mean   10730.824513    55.947075   68533.259749   101.502089     0.674791   \n",
      "std     3626.964585    18.599988   37506.448872    14.981080     0.468616   \n",
      "min     4350.000000     1.000000       1.000000    69.000000     0.000000   \n",
      "25%     8450.000000    44.000000   43000.000000    90.000000     0.000000   \n",
      "50%     9900.000000    61.000000   63389.500000   110.000000     1.000000   \n",
      "75%    11950.000000    70.000000   87020.750000   110.000000     1.000000   \n",
      "max    32500.000000    80.000000  243000.000000   192.000000     1.000000   \n",
      "\n",
      "         Automatic           CC        Doors      Weight  \n",
      "count  1436.000000  1436.000000  1436.000000  1436.00000  \n",
      "mean      0.055710  1566.827994     4.033426  1072.45961  \n",
      "std       0.229441   187.182436     0.952677    52.64112  \n",
      "min       0.000000  1300.000000     2.000000  1000.00000  \n",
      "25%       0.000000  1400.000000     3.000000  1040.00000  \n",
      "50%       0.000000  1600.000000     4.000000  1070.00000  \n",
      "75%       0.000000  1600.000000     5.000000  1085.00000  \n",
      "max       1.000000  2000.000000     5.000000  1615.00000  \n"
     ]
    }
   ],
   "source": [
    "# list all columns in the data\n",
    "print(ToyotaCorolla.columns)\n",
    "# get descriptive statistics of all columns\n",
    "print(ToyotaCorolla.describe())"
   ]
  },
  {
   "cell_type": "markdown",
   "metadata": {},
   "source": [
    "The \"formula\" here is following the same form as the linear regression: To the left of ~ lays y (response variable, which is Price in this example). The right hand side includes all independent variables. They do not have to include every column in the dataset (e.g. I'm skipping 'FuelType' here)\n",
    "\n",
    "Also, sm.ols deals with categorical data automatically (but not KNN in the next section). So directly including them is perfectly okay"
   ]
  },
  {
   "cell_type": "code",
   "execution_count": 8,
   "metadata": {
    "colab": {
     "base_uri": "https://localhost:8080/",
     "height": 561
    },
    "colab_type": "code",
    "id": "OrhT26WLN1ZM",
    "outputId": "98a6f8a0-14b3-4222-ea1a-107c186d28b2"
   },
   "outputs": [
    {
     "name": "stdout",
     "output_type": "stream",
     "text": [
      "                            OLS Regression Results                            \n",
      "==============================================================================\n",
      "Dep. Variable:                  Price   R-squared:                       0.823\n",
      "Model:                            OLS   Adj. R-squared:                  0.822\n",
      "Method:                 Least Squares   F-statistic:                     1104.\n",
      "Date:                Wed, 15 Jan 2020   Prob (F-statistic):               0.00\n",
      "Time:                        15:18:15   Log-Likelihood:                -12565.\n",
      "No. Observations:                1436   AIC:                         2.514e+04\n",
      "Df Residuals:                    1429   BIC:                         2.518e+04\n",
      "Df Model:                           6                                         \n",
      "Covariance Type:            nonrobust                                         \n",
      "==============================================================================\n",
      "                 coef    std err          t      P>|t|      [0.025      0.975]\n",
      "------------------------------------------------------------------------------\n",
      "Intercept   1.334e+04    482.164     27.673      0.000    1.24e+04    1.43e+04\n",
      "Age         -146.8912      2.707    -54.263      0.000    -152.201    -141.581\n",
      "KM            -0.0170      0.001    -11.435      0.000      -0.020      -0.014\n",
      "HP            31.9339      2.914     10.960      0.000      26.218      37.649\n",
      "MetColor      19.5457     86.895      0.225      0.822    -150.909     190.001\n",
      "Automatic    772.3192    177.439      4.353      0.000     424.249    1120.389\n",
      "CC             2.2152      0.246      9.006      0.000       1.733       2.698\n",
      "==============================================================================\n",
      "Omnibus:                      327.749   Durbin-Watson:                   1.350\n",
      "Prob(Omnibus):                  0.000   Jarque-Bera (JB):             2181.964\n",
      "Skew:                           0.889   Prob(JB):                         0.00\n",
      "Kurtosis:                       8.771   Cond. No.                     9.33e+05\n",
      "==============================================================================\n",
      "\n",
      "Warnings:\n",
      "[1] Standard Errors assume that the covariance matrix of the errors is correctly specified.\n",
      "[2] The condition number is large, 9.33e+05. This might indicate that there are\n",
      "strong multicollinearity or other numerical problems.\n"
     ]
    }
   ],
   "source": [
    "import statsmodels.formula.api as sm\n",
    "\n",
    "result = sm.ols(formula=\"Price ~ Age+KM+HP+MetColor+Automatic+CC\", data=ToyotaCorolla).fit()\n",
    "print(result.summary())"
   ]
  },
  {
   "cell_type": "markdown",
   "metadata": {},
   "source": [
    "#### log transformation as a possible improvement in normality\n",
    "\n",
    "We tried to use a log transformation to improve the normality of independent variables, but from plotting the histograms before&after, it looks like the original (no log transformation) yields a more normal-like shape"
   ]
  },
  {
   "cell_type": "code",
   "execution_count": 9,
   "metadata": {
    "colab": {
     "base_uri": "https://localhost:8080/",
     "height": 204
    },
    "colab_type": "code",
    "id": "WxReKlBaN1ZP",
    "outputId": "6ac2b395-7939-41e2-8945-26f188405b8f"
   },
   "outputs": [
    {
     "data": {
      "text/html": [
       "<div>\n",
       "<style scoped>\n",
       "    .dataframe tbody tr th:only-of-type {\n",
       "        vertical-align: middle;\n",
       "    }\n",
       "\n",
       "    .dataframe tbody tr th {\n",
       "        vertical-align: top;\n",
       "    }\n",
       "\n",
       "    .dataframe thead th {\n",
       "        text-align: right;\n",
       "    }\n",
       "</style>\n",
       "<table border=\"1\" class=\"dataframe\">\n",
       "  <thead>\n",
       "    <tr style=\"text-align: right;\">\n",
       "      <th></th>\n",
       "      <th>Price</th>\n",
       "      <th>Age</th>\n",
       "      <th>KM</th>\n",
       "      <th>FuelType</th>\n",
       "      <th>HP</th>\n",
       "      <th>MetColor</th>\n",
       "      <th>Automatic</th>\n",
       "      <th>CC</th>\n",
       "      <th>Doors</th>\n",
       "      <th>Weight</th>\n",
       "      <th>logKM</th>\n",
       "      <th>logCC</th>\n",
       "    </tr>\n",
       "  </thead>\n",
       "  <tbody>\n",
       "    <tr>\n",
       "      <td>0</td>\n",
       "      <td>13500</td>\n",
       "      <td>23</td>\n",
       "      <td>46986</td>\n",
       "      <td>Diesel</td>\n",
       "      <td>90</td>\n",
       "      <td>1</td>\n",
       "      <td>0</td>\n",
       "      <td>2000</td>\n",
       "      <td>3</td>\n",
       "      <td>1165</td>\n",
       "      <td>10.757605</td>\n",
       "      <td>7.600902</td>\n",
       "    </tr>\n",
       "    <tr>\n",
       "      <td>1</td>\n",
       "      <td>13750</td>\n",
       "      <td>23</td>\n",
       "      <td>72937</td>\n",
       "      <td>Diesel</td>\n",
       "      <td>90</td>\n",
       "      <td>1</td>\n",
       "      <td>0</td>\n",
       "      <td>2000</td>\n",
       "      <td>3</td>\n",
       "      <td>1165</td>\n",
       "      <td>11.197351</td>\n",
       "      <td>7.600902</td>\n",
       "    </tr>\n",
       "    <tr>\n",
       "      <td>2</td>\n",
       "      <td>13950</td>\n",
       "      <td>24</td>\n",
       "      <td>41711</td>\n",
       "      <td>Diesel</td>\n",
       "      <td>90</td>\n",
       "      <td>1</td>\n",
       "      <td>0</td>\n",
       "      <td>2000</td>\n",
       "      <td>3</td>\n",
       "      <td>1165</td>\n",
       "      <td>10.638520</td>\n",
       "      <td>7.600902</td>\n",
       "    </tr>\n",
       "    <tr>\n",
       "      <td>3</td>\n",
       "      <td>14950</td>\n",
       "      <td>26</td>\n",
       "      <td>48000</td>\n",
       "      <td>Diesel</td>\n",
       "      <td>90</td>\n",
       "      <td>0</td>\n",
       "      <td>0</td>\n",
       "      <td>2000</td>\n",
       "      <td>3</td>\n",
       "      <td>1165</td>\n",
       "      <td>10.778956</td>\n",
       "      <td>7.600902</td>\n",
       "    </tr>\n",
       "    <tr>\n",
       "      <td>4</td>\n",
       "      <td>13750</td>\n",
       "      <td>30</td>\n",
       "      <td>38500</td>\n",
       "      <td>Diesel</td>\n",
       "      <td>90</td>\n",
       "      <td>0</td>\n",
       "      <td>0</td>\n",
       "      <td>2000</td>\n",
       "      <td>3</td>\n",
       "      <td>1170</td>\n",
       "      <td>10.558414</td>\n",
       "      <td>7.600902</td>\n",
       "    </tr>\n",
       "  </tbody>\n",
       "</table>\n",
       "</div>"
      ],
      "text/plain": [
       "   Price  Age     KM FuelType  HP  MetColor  Automatic    CC  Doors  Weight  \\\n",
       "0  13500   23  46986   Diesel  90         1          0  2000      3    1165   \n",
       "1  13750   23  72937   Diesel  90         1          0  2000      3    1165   \n",
       "2  13950   24  41711   Diesel  90         1          0  2000      3    1165   \n",
       "3  14950   26  48000   Diesel  90         0          0  2000      3    1165   \n",
       "4  13750   30  38500   Diesel  90         0          0  2000      3    1170   \n",
       "\n",
       "       logKM     logCC  \n",
       "0  10.757605  7.600902  \n",
       "1  11.197351  7.600902  \n",
       "2  10.638520  7.600902  \n",
       "3  10.778956  7.600902  \n",
       "4  10.558414  7.600902  "
      ]
     },
     "execution_count": 9,
     "metadata": {},
     "output_type": "execute_result"
    }
   ],
   "source": [
    "ToyotaCorolla['logKM'] = np.log(ToyotaCorolla['KM'] )\n",
    "ToyotaCorolla['logCC'] = np.log(ToyotaCorolla['CC'] )\n",
    "ToyotaCorolla.head()"
   ]
  },
  {
   "cell_type": "code",
   "execution_count": 12,
   "metadata": {},
   "outputs": [
    {
     "data": {
      "text/plain": [
       "<matplotlib.axes._subplots.AxesSubplot at 0x13e7c6d06c8>"
      ]
     },
     "execution_count": 12,
     "metadata": {},
     "output_type": "execute_result"
    },
    {
     "data": {
      "image/png": "[encoded data removed]",
      "text/plain": [
       "<Figure size 432x288 with 1 Axes>"
      ]
     },
     "metadata": {
      "needs_background": "light"
     },
     "output_type": "display_data"
    }
   ],
   "source": [
    "ToyotaCorolla['logKM'].hist()"
   ]
  },
  {
   "cell_type": "code",
   "execution_count": 11,
   "metadata": {},
   "outputs": [
    {
     "data": {
      "text/plain": [
       "<matplotlib.axes._subplots.AxesSubplot at 0x13e7c6d0688>"
      ]
     },
     "execution_count": 11,
     "metadata": {},
     "output_type": "execute_result"
    },
    {
     "data": {
      "image/png": "[encoded data removed]",
      "text/plain": [
       "<Figure size 432x288 with 1 Axes>"
      ]
     },
     "metadata": {
      "needs_background": "light"
     },
     "output_type": "display_data"
    }
   ],
   "source": [
    "ToyotaCorolla['KM'].hist()"
   ]
  },
  {
   "cell_type": "code",
   "execution_count": 0,
   "metadata": {
    "colab": {
     "base_uri": "https://localhost:8080/",
     "height": 561
    },
    "colab_type": "code",
    "id": "qdTZNhGbN1ZR",
    "outputId": "bb63d24d-de6a-4fd6-b173-d0039fe4c6b4"
   },
   "outputs": [
    {
     "name": "stdout",
     "output_type": "stream",
     "text": [
      "                            OLS Regression Results                            \n",
      "==============================================================================\n",
      "Dep. Variable:                  Price   R-squared:                       0.813\n",
      "Model:                            OLS   Adj. R-squared:                  0.812\n",
      "Method:                 Least Squares   F-statistic:                     1033.\n",
      "Date:                Sat, 11 Jan 2020   Prob (F-statistic):               0.00\n",
      "Time:                        22:51:56   Log-Likelihood:                -12604.\n",
      "No. Observations:                1436   AIC:                         2.522e+04\n",
      "Df Residuals:                    1429   BIC:                         2.526e+04\n",
      "Df Model:                           6                                         \n",
      "Covariance Type:            nonrobust                                         \n",
      "==============================================================================\n",
      "                 coef    std err          t      P>|t|      [0.025      0.975]\n",
      "------------------------------------------------------------------------------\n",
      "Intercept   6371.0685   2654.002      2.401      0.016    1164.910    1.16e+04\n",
      "Age         -155.0181      2.645    -58.599      0.000    -160.207    -149.829\n",
      "logKM       -334.8416     45.814     -7.309      0.000    -424.712    -244.972\n",
      "HP            40.2761      2.845     14.158      0.000      34.696      45.857\n",
      "MetColor      47.0937     89.263      0.528      0.598    -128.008     222.195\n",
      "Automatic    900.7045    181.669      4.958      0.000     544.338    1257.071\n",
      "logCC       1702.5829    366.201      4.649      0.000     984.233    2420.932\n",
      "==============================================================================\n",
      "Omnibus:                      229.815   Durbin-Watson:                   1.374\n",
      "Prob(Omnibus):                  0.000   Jarque-Bera (JB):             1405.455\n",
      "Skew:                           0.589   Prob(JB):                    6.45e-306\n",
      "Kurtosis:                       7.702   Cond. No.                     7.58e+03\n",
      "==============================================================================\n",
      "\n",
      "Warnings:\n",
      "[1] Standard Errors assume that the covariance matrix of the errors is correctly specified.\n",
      "[2] The condition number is large, 7.58e+03. This might indicate that there are\n",
      "strong multicollinearity or other numerical problems.\n"
     ]
    }
   ],
   "source": [
    "result = sm.ols(formula=\"Price ~ Age+logKM+HP+MetColor+Automatic+logCC\", data=ToyotaCorolla).fit()\n",
    "print(result.summary())"
   ]
  },
  {
   "cell_type": "markdown",
   "metadata": {
    "colab_type": "text",
    "id": "h9daQELgN1ZU"
   },
   "source": [
    "## Part II: K-Nearest Neighbors (KNN)\n",
    "\n"
   ]
  },
  {
   "cell_type": "markdown",
   "metadata": {
    "colab_type": "text",
    "id": "rhwY_5cSN1ZU"
   },
   "source": [
    "### Construct train and test sets\n",
    "\n",
    "Here we use a random seed to ensure reproducibility. It should be a fixed number, but can be chosen arbitrarily\n",
    "\n",
    "By fixing the random seed, the train/test sets will be fixed every time the code runs"
   ]
  },
  {
   "cell_type": "code",
   "execution_count": 13,
   "metadata": {
    "colab": {},
    "colab_type": "code",
    "id": "AB2E0KIPN1ZV"
   },
   "outputs": [],
   "source": [
    "np.random.seed(123)  # set random seed for reproducibility"
   ]
  },
  {
   "cell_type": "code",
   "execution_count": 14,
   "metadata": {
    "colab": {},
    "colab_type": "code",
    "id": "4Usgy5jYN1ZX"
   },
   "outputs": [],
   "source": [
    "#X = ToyotaCorolla.drop('Price', axis=1)\n",
    "X = ToyotaCorolla[['Age','KM','HP','MetColor','Automatic','CC']]\n",
    "y = ToyotaCorolla['Price']\n",
    "y = ToyotaCorolla.Price"
   ]
  },
  {
   "cell_type": "code",
   "execution_count": 15,
   "metadata": {
    "colab": {},
    "colab_type": "code",
    "id": "59poWSw0N1ZZ"
   },
   "outputs": [],
   "source": [
    "from sklearn.model_selection import train_test_split\n",
    "X_train, X_test, y_train, y_test = train_test_split(X, y, test_size=0.20)"
   ]
  },
  {
   "cell_type": "markdown",
   "metadata": {
    "colab_type": "text",
    "id": "23rle9lON1Zd"
   },
   "source": [
    "### Scale the data to avoid bias\n",
    "\n",
    "This is due to the fact that KNN is sensitive to the scale of independent variables; some might be on a larger scale and dominate others. For example, 'KM' here dominates 'Age' by its nature.\n",
    "\n",
    "Question: what if we wish to include categorial independent variables? What should we do first?"
   ]
  },
  {
   "cell_type": "code",
   "execution_count": 18,
   "metadata": {
    "colab": {},
    "colab_type": "code",
    "id": "WltN49Par8dx"
   },
   "outputs": [],
   "source": [
    "from sklearn.preprocessing import StandardScaler\n",
    "scaler = StandardScaler()\n",
    "scaler.fit(X_train)\n",
    "X_train_knn = scaler.transform(X_train)\n",
    "X_test_knn = scaler.transform(X_test)"
   ]
  },
  {
   "cell_type": "markdown",
   "metadata": {
    "colab_type": "text",
    "id": "6rJPQPLMN1Zf"
   },
   "source": [
    "### Train the model\n",
    "\n",
    "Here we use a loop to iterate over a range of k values. Loops in python is versatile! Many online resources covers the basics of it. Try it out! Careful about the indentation!"
   ]
  },
  {
   "cell_type": "code",
   "execution_count": 25,
   "metadata": {
    "colab": {
     "base_uri": "https://localhost:8080/",
     "height": 357
    },
    "colab_type": "code",
    "id": "ElhgEwOPN1Zg",
    "outputId": "8a2f130e-b7cd-48a6-b508-1825a14cc5c3"
   },
   "outputs": [
    {
     "name": "stdout",
     "output_type": "stream",
     "text": [
      "RMSE value for k=  1 is: 1557.2151458345975\n",
      "RMSE value for k=  2 is: 1320.739332880136\n",
      "RMSE value for k=  3 is: 1280.7254977317048\n",
      "RMSE value for k=  4 is: 1294.952680304354\n",
      "RMSE value for k=  5 is: 1274.9698691973513\n",
      "RMSE value for k=  6 is: 1298.7327072453468\n",
      "RMSE value for k=  7 is: 1306.9418548022327\n",
      "RMSE value for k=  8 is: 1340.0756347769118\n",
      "RMSE value for k=  9 is: 1364.507082938588\n",
      "RMSE value for k=  10 is: 1355.0223497798024\n",
      "RMSE value for k=  11 is: 1359.690757449711\n",
      "RMSE value for k=  12 is: 1350.1067493588616\n",
      "RMSE value for k=  13 is: 1354.2399090722308\n",
      "RMSE value for k=  14 is: 1363.1178246270208\n",
      "RMSE value for k=  15 is: 1368.7887649846298\n",
      "RMSE value for k=  16 is: 1387.8867391205335\n",
      "RMSE value for k=  17 is: 1403.0504425136658\n",
      "RMSE value for k=  18 is: 1415.827027844576\n",
      "RMSE value for k=  19 is: 1448.9136798267004\n",
      "RMSE value for k=  20 is: 1449.6914011288557\n"
     ]
    }
   ],
   "source": [
    "from sklearn import neighbors\n",
    "from sklearn.metrics import mean_squared_error \n",
    "rmse_val = [] # set up an empty array (like a vector) to store RMSE values\n",
    "for K in range(20):\n",
    "    K = K+1\n",
    "    model = neighbors.KNeighborsRegressor(n_neighbors = K)\n",
    "    model.fit(X_train_knn, y_train)  #f it the model\n",
    "    pred=model.predict(X_test_knn) # make prediction on test set\n",
    "    error = np.sqrt(mean_squared_error(y_test,pred)) # comparing to the true y values and calculate rmse\n",
    "    rmse_val.append(error) # add the RMSE value to the end\n",
    "    print('RMSE value for k= ' , K , 'is:', error)"
   ]
  },
  {
   "cell_type": "markdown",
   "metadata": {
    "colab_type": "text",
    "id": "JGdzX217N1Zi"
   },
   "source": [
    "#### Compare with linear regression model\n",
    "\n",
    "Here, we use the identical KNN train set to estimate a linear model, and then use the same test set to calculate RMSE. The reason we are using the same datasets is to ensure an apple-to-apple comparison of the performance. \n",
    "\n",
    "And then we can find that RMSE from linear model is higher, which means an inferior predictive performance."
   ]
  },
  {
   "cell_type": "code",
   "execution_count": 29,
   "metadata": {
    "colab": {},
    "colab_type": "code",
    "id": "x3Q8PtvWN1Zj",
    "outputId": "d81eeb85-8af6-4450-e84a-e7ee9a10fb24"
   },
   "outputs": [
    {
     "name": "stdout",
     "output_type": "stream",
     "text": [
      "1567.0653815366397\n"
     ]
    }
   ],
   "source": [
    "# now generate predictions\n",
    "lm_train_data = pd.merge(X_train,y_train,how = 'left',left_index = True, right_index = True)\n",
    "lm2 = sm.ols(formula=\"Price ~ Age+KM+HP+MetColor+Automatic+CC\", data=lm_train_data).fit()\n",
    "ypred = lm2.predict(X_test)\n",
    "\n",
    "# calc rmse\n",
    "print(np.sqrt(mean_squared_error(y_test,ypred)))"
   ]
  }
 ],
 "metadata": {
  "colab": {
   "collapsed_sections": [],
   "name": "Copy of PythonWorkshop2020.ipynb",
   "provenance": []
  },
  "kernelspec": {
   "display_name": "Python 3",
   "language": "python",
   "name": "python3"
  },
  "language_info": {
   "codemirror_mode": {
    "name": "ipython",
    "version": 3
   },
   "file_extension": ".py",
   "mimetype": "text/x-python",
   "name": "python",
   "nbconvert_exporter": "python",
   "pygments_lexer": "ipython3",
   "version": "3.7.3"
  }
 },
 "nbformat": 4,
 "nbformat_minor": 1
}
