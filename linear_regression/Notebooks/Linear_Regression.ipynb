{
 "cells": [
  {
   "cell_type": "markdown",
   "metadata": {},
   "source": [
    "# Simple Linear Regression\n",
    "Linear regression is a statistical method that allows us to study relationships between two **continuous quantitative (measurable) variables**. \n",
    "\n",
    "A regression model attempts to predict the value of one variable, known as the **dependent variable, response variable, or label**, using the values of other variables, known as **independent variables, explanatory variables, or features**. \n",
    "\n",
    "Simple regression has one label used to predict one feature. Multiple regression uses two of more feature variables to predict one feature. Can we use X to predict Y? \n",
    "\n",
    "We're learing linear regression today because it's: \n",
    "- Very widely used\n",
    "- Quick to implement and run\n",
    "- Easy to interpret\n",
    "- The basis for many other models"
   ]
  },
  {
   "cell_type": "markdown",
   "metadata": {},
   "source": [
    "## Assumptions of Linear Regression\n",
    "Linear regression is a parametric model, which means that we make some assumptions about our dataset that must be roughly fulfilled in order for us to use this model. \n",
    "\n",
    "### Check before modeling: \n",
    "- A **Linear relationship** between the dependent (target) and independent (features) variables\n",
    "- **No Multicollinearity**: The independent variable does not have a strong correlation with other variables in the dataset\n",
    "\n",
    "### Check after modeling: \n",
    "- **Homoscedasticity**: Error is independent and random \n",
    "- **Residual**- Measured error terms are normally distributed. This can be assured with enough data points thanks to the Central Limit Theorum"
   ]
  },
  {
   "cell_type": "markdown",
   "metadata": {},
   "source": [
    "## Linear model of a straight line\n",
    "\n",
    "Let's have a look at the simplest case of a regression model for a straight line. If we have one feature and one label, and there are some number of values pairs, ${x_i,y_i}$, we can define a line that best fits that data.  \n",
    "\n",
    "<img src=\"https://library.startlearninglabs.uw.edu/DATASCI410/img/ymxb.jpg\" alt=\"y_equals_mx_plus_b\" style=\"width: 450px;\"/>\n",
    "<center>**Single regression model**</center>\n",
    "\n",
    "$$where\\\\\n",
    "slope (m) = \\frac{rise}{run} = \\frac{\\delta y}{\\delta x}\\\\\n",
    "and\\\\\n",
    "y = b\\ at\\ x = 0$$\n",
    "\n",
    "\n",
    "\n",
    "\n",
    "If we have a number of values pairs, ${x_i,y_i}$, we can write the equation for the line with the errors as:\n",
    "\n",
    "$$y_i = mx_i + b + \\epsilon_i \\\\\n",
    "where \\\\\n",
    "\\epsilon_i = error$$\n",
    "\n",
    "We can visualize these errors as shown in the figure below.\n",
    "\n",
    "<img src=\"https://library.startlearninglabs.uw.edu/DATASCI410/img/LSRegression.jpg\" alt=\"LS Regression\" style=\"width: 450px;\"/>\n",
    "<center>**Example of Ordinary Least Squares Regression**</center>\n",
    "\n",
    "We want to solve for $m$ and $b$ by minimizing the error, $\\epsilon_i$. We call this **least squares regression**.\n",
    "\n",
    "$$min \\Sigma_i \\epsilon^2 = min \\Sigma_i{ (y_i - (mx_i + b))^2}$$"
   ]
  },
  {
   "cell_type": "markdown",
   "metadata": {},
   "source": [
    "## Ordinary Least Squares Regression\n",
    "OLS is one of the simplest models to implement because rather than having to search for values by trial and error or calculate them analytically using more advanced linear algebra, we can estimate them directly from our data. \n",
    "\n",
    "In the dataset we'll create below, A and X are independent features, and Y is the dependent target variable. For our regression, we're only interested in the relationship between X and Y: "
   ]
  },
  {
   "cell_type": "code",
   "execution_count": 49,
   "metadata": {},
   "outputs": [],
   "source": [
    "import pandas as pd\n",
    "import numpy as np\n",
    "import matplotlib.pyplot as plt\n",
    "from numpy import random\n",
    "\n",
    "A = [1000, 57, 899, 22, 42, 55, 80, 46112, 3, 222, 563, 7]\n",
    "X = [1.1, 1.2, 1.3, 1.4, 1.5, 1.7, 2.0, 2.2, 2.5, 2.6, 2.8, 3.0]\n",
    "Y = [39111, 39199, 41225, 41300, 43556, 43677, 44557, 46112, 47118, 48888, 48999, 49500]\n",
    "\n",
    "df = pd.DataFrame(zip(A, X, Y), columns=[\"A\", \"X\", \"Y\"])"
   ]
  },
  {
   "cell_type": "code",
   "execution_count": 50,
   "metadata": {},
   "outputs": [
    {
     "data": {
      "text/html": [
       "<div>\n",
       "<style scoped>\n",
       "    .dataframe tbody tr th:only-of-type {\n",
       "        vertical-align: middle;\n",
       "    }\n",
       "\n",
       "    .dataframe tbody tr th {\n",
       "        vertical-align: top;\n",
       "    }\n",
       "\n",
       "    .dataframe thead th {\n",
       "        text-align: right;\n",
       "    }\n",
       "</style>\n",
       "<table border=\"1\" class=\"dataframe\">\n",
       "  <thead>\n",
       "    <tr style=\"text-align: right;\">\n",
       "      <th></th>\n",
       "      <th>A</th>\n",
       "      <th>X</th>\n",
       "      <th>Y</th>\n",
       "    </tr>\n",
       "  </thead>\n",
       "  <tbody>\n",
       "    <tr>\n",
       "      <th>0</th>\n",
       "      <td>1000</td>\n",
       "      <td>1.1</td>\n",
       "      <td>39111</td>\n",
       "    </tr>\n",
       "    <tr>\n",
       "      <th>1</th>\n",
       "      <td>57</td>\n",
       "      <td>1.2</td>\n",
       "      <td>39199</td>\n",
       "    </tr>\n",
       "    <tr>\n",
       "      <th>2</th>\n",
       "      <td>899</td>\n",
       "      <td>1.3</td>\n",
       "      <td>41225</td>\n",
       "    </tr>\n",
       "    <tr>\n",
       "      <th>3</th>\n",
       "      <td>22</td>\n",
       "      <td>1.4</td>\n",
       "      <td>41300</td>\n",
       "    </tr>\n",
       "    <tr>\n",
       "      <th>4</th>\n",
       "      <td>42</td>\n",
       "      <td>1.5</td>\n",
       "      <td>43556</td>\n",
       "    </tr>\n",
       "  </tbody>\n",
       "</table>\n",
       "</div>"
      ],
      "text/plain": [
       "      A    X      Y\n",
       "0  1000  1.1  39111\n",
       "1    57  1.2  39199\n",
       "2   899  1.3  41225\n",
       "3    22  1.4  41300\n",
       "4    42  1.5  43556"
      ]
     },
     "execution_count": 50,
     "metadata": {},
     "output_type": "execute_result"
    }
   ],
   "source": [
    "df.head()"
   ]
  },
  {
   "cell_type": "markdown",
   "metadata": {},
   "source": [
    "## Testing Assumption 1: Linear Relationship\n",
    "We can quickly test for a linear relationship between X and Y using a scatterplot: "
   ]
  },
  {
   "cell_type": "code",
   "execution_count": 47,
   "metadata": {},
   "outputs": [
    {
     "data": {
      "text/plain": [
       "<matplotlib.collections.PathCollection at 0x1a1ceb1a90>"
      ]
     },
     "execution_count": 47,
     "metadata": {},
     "output_type": "execute_result"
    },
    {
     "data": {
      "image/png": "[encoded data removed]",
      "text/plain": [
       "<Figure size 432x288 with 1 Axes>"
      ]
     },
     "metadata": {
      "needs_background": "light"
     },
     "output_type": "display_data"
    }
   ],
   "source": [
    "%matplotlib inline\n",
    "\n",
    "plt.scatter(df.X, df.Y)"
   ]
  },
  {
   "cell_type": "markdown",
   "metadata": {},
   "source": [
    "We can see from our dataplot that there is a linear relationship here, so let's check the second assumption. \n",
    "\n",
    "## Testing Assumption 2: Multicollinearity\n",
    "We can calculate the Pearson's Correlation Coefficient to test the correlation between the two independent variables A and X, and our feature Y. \n",
    "\n",
    "It's okay to see some correlation between X and Y, but we don't want to see high correlation between A and X because that would make it impossible to accurately test how X is affecting Y independent of A. "
   ]
  },
  {
   "cell_type": "code",
   "execution_count": 48,
   "metadata": {},
   "outputs": [
    {
     "data": {
      "text/html": [
       "<div>\n",
       "<style scoped>\n",
       "    .dataframe tbody tr th:only-of-type {\n",
       "        vertical-align: middle;\n",
       "    }\n",
       "\n",
       "    .dataframe tbody tr th {\n",
       "        vertical-align: top;\n",
       "    }\n",
       "\n",
       "    .dataframe thead th {\n",
       "        text-align: right;\n",
       "    }\n",
       "</style>\n",
       "<table border=\"1\" class=\"dataframe\">\n",
       "  <thead>\n",
       "    <tr style=\"text-align: right;\">\n",
       "      <th></th>\n",
       "      <th>A</th>\n",
       "      <th>X</th>\n",
       "      <th>Y</th>\n",
       "    </tr>\n",
       "  </thead>\n",
       "  <tbody>\n",
       "    <tr>\n",
       "      <th>A</th>\n",
       "      <td>1.000000</td>\n",
       "      <td>0.113824</td>\n",
       "      <td>0.132678</td>\n",
       "    </tr>\n",
       "    <tr>\n",
       "      <th>X</th>\n",
       "      <td>0.113824</td>\n",
       "      <td>1.000000</td>\n",
       "      <td>0.979541</td>\n",
       "    </tr>\n",
       "    <tr>\n",
       "      <th>Y</th>\n",
       "      <td>0.132678</td>\n",
       "      <td>0.979541</td>\n",
       "      <td>1.000000</td>\n",
       "    </tr>\n",
       "  </tbody>\n",
       "</table>\n",
       "</div>"
      ],
      "text/plain": [
       "          A         X         Y\n",
       "A  1.000000  0.113824  0.132678\n",
       "X  0.113824  1.000000  0.979541\n",
       "Y  0.132678  0.979541  1.000000"
      ]
     },
     "execution_count": 48,
     "metadata": {},
     "output_type": "execute_result"
    }
   ],
   "source": [
    "df.corr()"
   ]
  },
  {
   "cell_type": "markdown",
   "metadata": {},
   "source": [
    "The correlation between A and X and A and Y is low, so we will be able to move forward with a linear regression bewteen X and Y. mm"
   ]
  },
  {
   "cell_type": "markdown",
   "metadata": {},
   "source": [
    "## Creating a Simple Linear Regression\n",
    "\n",
    "### Creating a line of best fit\n",
    "The goal of any statistical model is to minimize error. For linear regression, this means finding the line we can draw through the data that gives us back the smallest sum of squared erorrs. \n",
    "\n",
    "Remember that the equation we are solving for using our data points is: \n",
    "\n",
    "  ![linear_equation](./linear_equation.png)\n",
    "\n",
    "Where: \n",
    "- Y is the output value we want to predict\n",
    "- B0 is called the intercept because it determines where the line intercepts the y-axis\n",
    "- B1 s called the slope because it defines the slope of the line or how x translates into a y value before we add our bias\n",
    "- The goal is to find the best estimates for the other coefficients that minimizes the errors in predicting y from x\n",
    "\n",
    "#### 1. Calculating Slope (B1)\n",
    "We can use the following equation to estimate slope from a dataset:   \n",
    "\n",
    "`B1 = corr(x, y) * (stdev(y) / stdev(x))`\n",
    "\n",
    "We'll start by getting the Pearson's Correlation Coefficient (R^2) between X and Y: "
   ]
  },
  {
   "cell_type": "code",
   "execution_count": 53,
   "metadata": {},
   "outputs": [
    {
     "data": {
      "text/html": [
       "<div>\n",
       "<style scoped>\n",
       "    .dataframe tbody tr th:only-of-type {\n",
       "        vertical-align: middle;\n",
       "    }\n",
       "\n",
       "    .dataframe tbody tr th {\n",
       "        vertical-align: top;\n",
       "    }\n",
       "\n",
       "    .dataframe thead th {\n",
       "        text-align: right;\n",
       "    }\n",
       "</style>\n",
       "<table border=\"1\" class=\"dataframe\">\n",
       "  <thead>\n",
       "    <tr style=\"text-align: right;\">\n",
       "      <th></th>\n",
       "      <th>X</th>\n",
       "      <th>Y</th>\n",
       "    </tr>\n",
       "  </thead>\n",
       "  <tbody>\n",
       "    <tr>\n",
       "      <th>X</th>\n",
       "      <td>1.000000</td>\n",
       "      <td>0.979541</td>\n",
       "    </tr>\n",
       "    <tr>\n",
       "      <th>Y</th>\n",
       "      <td>0.979541</td>\n",
       "      <td>1.000000</td>\n",
       "    </tr>\n",
       "  </tbody>\n",
       "</table>\n",
       "</div>"
      ],
      "text/plain": [
       "          X         Y\n",
       "X  1.000000  0.979541\n",
       "Y  0.979541  1.000000"
      ]
     },
     "execution_count": 53,
     "metadata": {},
     "output_type": "execute_result"
    }
   ],
   "source": [
    "r_sq = df[[\"X\", \"Y\"]].corr() \n",
    "r_sq"
   ]
  },
  {
   "cell_type": "markdown",
   "metadata": {},
   "source": [
    "Now we can multiply 0.989485 times the standard deviation of y divided by the standard deviation of x: "
   ]
  },
  {
   "cell_type": "code",
   "execution_count": 56,
   "metadata": {},
   "outputs": [],
   "source": [
    "B1 = 0.979541 * (np.std(df.Y)/np.std(df.X))"
   ]
  },
  {
   "cell_type": "code",
   "execution_count": 58,
   "metadata": {},
   "outputs": [
    {
     "name": "stdout",
     "output_type": "stream",
     "text": [
      "For 1 unit of change in X, we can predict 5489.9914985764635 units of change in Y\n"
     ]
    }
   ],
   "source": [
    "print(\"For 1 unit of change in X, we can predict {} units of change in Y\".format(B1))"
   ]
  },
  {
   "cell_type": "markdown",
   "metadata": {},
   "source": [
    "Check this against your scatterplot; does that seem reasonable? "
   ]
  },
  {
   "cell_type": "markdown",
   "metadata": {},
   "source": [
    "### 3. Calculating the Intercept\n",
    "Now we can figure out where the point where the line crosses the Y axis. This part is easy since we have already solved for B1:   \n",
    "    `B0 = mean(y) – B1 * mean(x)`"
   ]
  },
  {
   "cell_type": "code",
   "execution_count": 59,
   "metadata": {},
   "outputs": [
    {
     "data": {
      "text/plain": [
       "33777.09984026404"
      ]
     },
     "execution_count": 59,
     "metadata": {},
     "output_type": "execute_result"
    }
   ],
   "source": [
    "B0 = df.Y.mean() - (B1 * df.X.mean())\n",
    "B0"
   ]
  },
  {
   "cell_type": "markdown",
   "metadata": {},
   "source": [
    "Again, compare this with your scatterplot and make sure it's reasonable. "
   ]
  },
  {
   "cell_type": "markdown",
   "metadata": {},
   "source": [
    "### 4. Plotting the line of best fit\n",
    "Now that we have an equation for our line, we can use it to draw a line of best fit through the data points:   \n",
    "`y = B0 + (B1 * x) + error` \n",
    "\n",
    "We can calculate the predictions for every point in our dataset: "
   ]
  },
  {
   "cell_type": "code",
   "execution_count": 60,
   "metadata": {},
   "outputs": [],
   "source": [
    "df[\"y_line\"] = B0 + (B1 * df.X)"
   ]
  },
  {
   "cell_type": "code",
   "execution_count": 61,
   "metadata": {},
   "outputs": [
    {
     "data": {
      "text/html": [
       "<div>\n",
       "<style scoped>\n",
       "    .dataframe tbody tr th:only-of-type {\n",
       "        vertical-align: middle;\n",
       "    }\n",
       "\n",
       "    .dataframe tbody tr th {\n",
       "        vertical-align: top;\n",
       "    }\n",
       "\n",
       "    .dataframe thead th {\n",
       "        text-align: right;\n",
       "    }\n",
       "</style>\n",
       "<table border=\"1\" class=\"dataframe\">\n",
       "  <thead>\n",
       "    <tr style=\"text-align: right;\">\n",
       "      <th></th>\n",
       "      <th>A</th>\n",
       "      <th>X</th>\n",
       "      <th>Y</th>\n",
       "      <th>y_line</th>\n",
       "    </tr>\n",
       "  </thead>\n",
       "  <tbody>\n",
       "    <tr>\n",
       "      <th>0</th>\n",
       "      <td>1000</td>\n",
       "      <td>1.1</td>\n",
       "      <td>39111</td>\n",
       "      <td>39816.090489</td>\n",
       "    </tr>\n",
       "    <tr>\n",
       "      <th>1</th>\n",
       "      <td>57</td>\n",
       "      <td>1.2</td>\n",
       "      <td>39199</td>\n",
       "      <td>40365.089639</td>\n",
       "    </tr>\n",
       "    <tr>\n",
       "      <th>2</th>\n",
       "      <td>899</td>\n",
       "      <td>1.3</td>\n",
       "      <td>41225</td>\n",
       "      <td>40914.088788</td>\n",
       "    </tr>\n",
       "    <tr>\n",
       "      <th>3</th>\n",
       "      <td>22</td>\n",
       "      <td>1.4</td>\n",
       "      <td>41300</td>\n",
       "      <td>41463.087938</td>\n",
       "    </tr>\n",
       "    <tr>\n",
       "      <th>4</th>\n",
       "      <td>42</td>\n",
       "      <td>1.5</td>\n",
       "      <td>43556</td>\n",
       "      <td>42012.087088</td>\n",
       "    </tr>\n",
       "  </tbody>\n",
       "</table>\n",
       "</div>"
      ],
      "text/plain": [
       "      A    X      Y        y_line\n",
       "0  1000  1.1  39111  39816.090489\n",
       "1    57  1.2  39199  40365.089639\n",
       "2   899  1.3  41225  40914.088788\n",
       "3    22  1.4  41300  41463.087938\n",
       "4    42  1.5  43556  42012.087088"
      ]
     },
     "execution_count": 61,
     "metadata": {},
     "output_type": "execute_result"
    }
   ],
   "source": [
    "df.head()"
   ]
  },
  {
   "cell_type": "markdown",
   "metadata": {},
   "source": [
    "And we can use that information to plot the regression line: "
   ]
  },
  {
   "cell_type": "code",
   "execution_count": 62,
   "metadata": {},
   "outputs": [
    {
     "data": {
      "text/plain": [
       "Text(0.5, 0, 'Independent Variable')"
      ]
     },
     "execution_count": 62,
     "metadata": {},
     "output_type": "execute_result"
    },
    {
     "data": {
      "image/png": "[encoded data removed]",
      "text/plain": [
       "<Figure size 432x288 with 1 Axes>"
      ]
     },
     "metadata": {
      "needs_background": "light"
     },
     "output_type": "display_data"
    }
   ],
   "source": [
    "plt.scatter(df.X,df.Y) # create the main scatter plot\n",
    "plt.plot(df.X, df.y_line) # plot the regression line\n",
    "plt.ylabel(\"Dependent Variable\")\n",
    "plt.xlabel(\"Independent Variable\")"
   ]
  },
  {
   "cell_type": "markdown",
   "metadata": {},
   "source": [
    "First, we'll learn how to implement the model in python, then we'll learn how to check the final two assumptions and evaluate our model. "
   ]
  }
 ],
 "metadata": {
  "kernelspec": {
   "display_name": "Python 3",
   "language": "python",
   "name": "python3"
  },
  "language_info": {
   "codemirror_mode": {
    "name": "ipython",
    "version": 3
   },
   "file_extension": ".py",
   "mimetype": "text/x-python",
   "name": "python",
   "nbconvert_exporter": "python",
   "pygments_lexer": "ipython3",
   "version": "3.7.3"
  }
 },
 "nbformat": 4,
 "nbformat_minor": 2
}
