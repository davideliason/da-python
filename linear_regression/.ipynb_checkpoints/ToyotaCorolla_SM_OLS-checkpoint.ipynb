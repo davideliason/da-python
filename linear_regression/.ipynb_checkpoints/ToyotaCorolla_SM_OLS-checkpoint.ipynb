{
 "cells": [
  {
   "cell_type": "code",
   "execution_count": 2,
   "metadata": {},
   "outputs": [],
   "source": [
    "import pandas as pd\n",
    "import numpy as np"
   ]
  },
  {
   "cell_type": "code",
   "execution_count": 3,
   "metadata": {},
   "outputs": [],
   "source": [
    "ToyotaCorolla = pd.read_csv('https://www.biz.uiowa.edu/faculty/jledolter/datamining/ToyotaCorolla.csv')"
   ]
  },
  {
   "cell_type": "code",
   "execution_count": 4,
   "metadata": {},
   "outputs": [
    {
     "data": {
      "text/html": [
       "<div>\n",
       "<style scoped>\n",
       "    .dataframe tbody tr th:only-of-type {\n",
       "        vertical-align: middle;\n",
       "    }\n",
       "\n",
       "    .dataframe tbody tr th {\n",
       "        vertical-align: top;\n",
       "    }\n",
       "\n",
       "    .dataframe thead th {\n",
       "        text-align: right;\n",
       "    }\n",
       "</style>\n",
       "<table border=\"1\" class=\"dataframe\">\n",
       "  <thead>\n",
       "    <tr style=\"text-align: right;\">\n",
       "      <th></th>\n",
       "      <th>Price</th>\n",
       "      <th>Age</th>\n",
       "      <th>KM</th>\n",
       "      <th>FuelType</th>\n",
       "      <th>HP</th>\n",
       "      <th>MetColor</th>\n",
       "      <th>Automatic</th>\n",
       "      <th>CC</th>\n",
       "      <th>Doors</th>\n",
       "      <th>Weight</th>\n",
       "    </tr>\n",
       "  </thead>\n",
       "  <tbody>\n",
       "    <tr>\n",
       "      <th>0</th>\n",
       "      <td>13500</td>\n",
       "      <td>23</td>\n",
       "      <td>46986</td>\n",
       "      <td>Diesel</td>\n",
       "      <td>90</td>\n",
       "      <td>1</td>\n",
       "      <td>0</td>\n",
       "      <td>2000</td>\n",
       "      <td>3</td>\n",
       "      <td>1165</td>\n",
       "    </tr>\n",
       "    <tr>\n",
       "      <th>1</th>\n",
       "      <td>13750</td>\n",
       "      <td>23</td>\n",
       "      <td>72937</td>\n",
       "      <td>Diesel</td>\n",
       "      <td>90</td>\n",
       "      <td>1</td>\n",
       "      <td>0</td>\n",
       "      <td>2000</td>\n",
       "      <td>3</td>\n",
       "      <td>1165</td>\n",
       "    </tr>\n",
       "    <tr>\n",
       "      <th>2</th>\n",
       "      <td>13950</td>\n",
       "      <td>24</td>\n",
       "      <td>41711</td>\n",
       "      <td>Diesel</td>\n",
       "      <td>90</td>\n",
       "      <td>1</td>\n",
       "      <td>0</td>\n",
       "      <td>2000</td>\n",
       "      <td>3</td>\n",
       "      <td>1165</td>\n",
       "    </tr>\n",
       "    <tr>\n",
       "      <th>3</th>\n",
       "      <td>14950</td>\n",
       "      <td>26</td>\n",
       "      <td>48000</td>\n",
       "      <td>Diesel</td>\n",
       "      <td>90</td>\n",
       "      <td>0</td>\n",
       "      <td>0</td>\n",
       "      <td>2000</td>\n",
       "      <td>3</td>\n",
       "      <td>1165</td>\n",
       "    </tr>\n",
       "    <tr>\n",
       "      <th>4</th>\n",
       "      <td>13750</td>\n",
       "      <td>30</td>\n",
       "      <td>38500</td>\n",
       "      <td>Diesel</td>\n",
       "      <td>90</td>\n",
       "      <td>0</td>\n",
       "      <td>0</td>\n",
       "      <td>2000</td>\n",
       "      <td>3</td>\n",
       "      <td>1170</td>\n",
       "    </tr>\n",
       "  </tbody>\n",
       "</table>\n",
       "</div>"
      ],
      "text/plain": [
       "   Price  Age     KM FuelType  HP  MetColor  Automatic    CC  Doors  Weight\n",
       "0  13500   23  46986   Diesel  90         1          0  2000      3    1165\n",
       "1  13750   23  72937   Diesel  90         1          0  2000      3    1165\n",
       "2  13950   24  41711   Diesel  90         1          0  2000      3    1165\n",
       "3  14950   26  48000   Diesel  90         0          0  2000      3    1165\n",
       "4  13750   30  38500   Diesel  90         0          0  2000      3    1170"
      ]
     },
     "execution_count": 4,
     "metadata": {},
     "output_type": "execute_result"
    }
   ],
   "source": [
    "ToyotaCorolla.head()"
   ]
  },
  {
   "cell_type": "code",
   "execution_count": 5,
   "metadata": {},
   "outputs": [
    {
     "data": {
      "text/plain": [
       "Index(['Price', 'Age', 'KM', 'FuelType', 'HP', 'MetColor', 'Automatic', 'CC',\n",
       "       'Doors', 'Weight'],\n",
       "      dtype='object')"
      ]
     },
     "execution_count": 5,
     "metadata": {},
     "output_type": "execute_result"
    }
   ],
   "source": [
    "ToyotaCorolla.columns"
   ]
  },
  {
   "cell_type": "code",
   "execution_count": 6,
   "metadata": {},
   "outputs": [],
   "source": [
    "import statsmodels.formula.api as sm\n"
   ]
  },
  {
   "cell_type": "code",
   "execution_count": 7,
   "metadata": {},
   "outputs": [],
   "source": [
    "result = sm.ols(formula=\"Price ~ Age+KM+HP+MetColor+Automatic+CC\", data=ToyotaCorolla).fit()"
   ]
  },
  {
   "cell_type": "code",
   "execution_count": 8,
   "metadata": {},
   "outputs": [
    {
     "name": "stdout",
     "output_type": "stream",
     "text": [
      "                            OLS Regression Results                            \n",
      "==============================================================================\n",
      "Dep. Variable:                  Price   R-squared:                       0.823\n",
      "Model:                            OLS   Adj. R-squared:                  0.822\n",
      "Method:                 Least Squares   F-statistic:                     1104.\n",
      "Date:                Thu, 16 Jan 2020   Prob (F-statistic):               0.00\n",
      "Time:                        14:12:47   Log-Likelihood:                -12565.\n",
      "No. Observations:                1436   AIC:                         2.514e+04\n",
      "Df Residuals:                    1429   BIC:                         2.518e+04\n",
      "Df Model:                           6                                         \n",
      "Covariance Type:            nonrobust                                         \n",
      "==============================================================================\n",
      "                 coef    std err          t      P>|t|      [0.025      0.975]\n",
      "------------------------------------------------------------------------------\n",
      "Intercept   1.334e+04    482.164     27.673      0.000    1.24e+04    1.43e+04\n",
      "Age         -146.8912      2.707    -54.263      0.000    -152.201    -141.581\n",
      "KM            -0.0170      0.001    -11.435      0.000      -0.020      -0.014\n",
      "HP            31.9339      2.914     10.960      0.000      26.218      37.649\n",
      "MetColor      19.5457     86.895      0.225      0.822    -150.909     190.001\n",
      "Automatic    772.3192    177.439      4.353      0.000     424.249    1120.389\n",
      "CC             2.2152      0.246      9.006      0.000       1.733       2.698\n",
      "==============================================================================\n",
      "Omnibus:                      327.749   Durbin-Watson:                   1.350\n",
      "Prob(Omnibus):                  0.000   Jarque-Bera (JB):             2181.964\n",
      "Skew:                           0.889   Prob(JB):                         0.00\n",
      "Kurtosis:                       8.771   Cond. No.                     9.33e+05\n",
      "==============================================================================\n",
      "\n",
      "Warnings:\n",
      "[1] Standard Errors assume that the covariance matrix of the errors is correctly specified.\n",
      "[2] The condition number is large, 9.33e+05. This might indicate that there are\n",
      "strong multicollinearity or other numerical problems.\n"
     ]
    }
   ],
   "source": [
    "print(result.summary())"
   ]
  },
  {
   "cell_type": "code",
   "execution_count": 9,
   "metadata": {},
   "outputs": [],
   "source": [
    "ToyotaCorolla['logKM'] = np.log(ToyotaCorolla['KM'])"
   ]
  },
  {
   "cell_type": "code",
   "execution_count": 10,
   "metadata": {},
   "outputs": [],
   "source": [
    "ToyotaCorolla['logCC'] = np.log(ToyotaCorolla['CC'])"
   ]
  },
  {
   "cell_type": "code",
   "execution_count": 11,
   "metadata": {},
   "outputs": [
    {
     "data": {
      "text/plain": [
       "0    10.757605\n",
       "1    11.197351\n",
       "2    10.638520\n",
       "3    10.778956\n",
       "4    10.558414\n",
       "Name: logKM, dtype: float64"
      ]
     },
     "execution_count": 11,
     "metadata": {},
     "output_type": "execute_result"
    }
   ],
   "source": [
    "ToyotaCorolla['logKM'].head()"
   ]
  },
  {
   "cell_type": "code",
   "execution_count": 12,
   "metadata": {},
   "outputs": [
    {
     "data": {
      "text/plain": [
       "0    7.600902\n",
       "1    7.600902\n",
       "2    7.600902\n",
       "3    7.600902\n",
       "4    7.600902\n",
       "Name: logCC, dtype: float64"
      ]
     },
     "execution_count": 12,
     "metadata": {},
     "output_type": "execute_result"
    }
   ],
   "source": [
    "ToyotaCorolla['logCC'].head()"
   ]
  },
  {
   "cell_type": "markdown",
   "metadata": {},
   "source": [
    "### Use OLS LR Model with #'s Log"
   ]
  },
  {
   "cell_type": "code",
   "execution_count": 13,
   "metadata": {},
   "outputs": [],
   "source": [
    "result = sm.ols(formula=\"Price ~ Age+logKM+HP+MetColor+Automatic+logCC\", data=ToyotaCorolla).fit()"
   ]
  },
  {
   "cell_type": "code",
   "execution_count": 14,
   "metadata": {},
   "outputs": [
    {
     "name": "stdout",
     "output_type": "stream",
     "text": [
      "                            OLS Regression Results                            \n",
      "==============================================================================\n",
      "Dep. Variable:                  Price   R-squared:                       0.813\n",
      "Model:                            OLS   Adj. R-squared:                  0.812\n",
      "Method:                 Least Squares   F-statistic:                     1033.\n",
      "Date:                Thu, 16 Jan 2020   Prob (F-statistic):               0.00\n",
      "Time:                        14:20:51   Log-Likelihood:                -12604.\n",
      "No. Observations:                1436   AIC:                         2.522e+04\n",
      "Df Residuals:                    1429   BIC:                         2.526e+04\n",
      "Df Model:                           6                                         \n",
      "Covariance Type:            nonrobust                                         \n",
      "==============================================================================\n",
      "                 coef    std err          t      P>|t|      [0.025      0.975]\n",
      "------------------------------------------------------------------------------\n",
      "Intercept   6371.0685   2654.002      2.401      0.016    1164.910    1.16e+04\n",
      "Age         -155.0181      2.645    -58.599      0.000    -160.207    -149.829\n",
      "logKM       -334.8416     45.814     -7.309      0.000    -424.712    -244.972\n",
      "HP            40.2761      2.845     14.158      0.000      34.696      45.857\n",
      "MetColor      47.0937     89.263      0.528      0.598    -128.008     222.195\n",
      "Automatic    900.7045    181.669      4.958      0.000     544.338    1257.071\n",
      "logCC       1702.5829    366.201      4.649      0.000     984.233    2420.932\n",
      "==============================================================================\n",
      "Omnibus:                      229.815   Durbin-Watson:                   1.374\n",
      "Prob(Omnibus):                  0.000   Jarque-Bera (JB):             1405.455\n",
      "Skew:                           0.589   Prob(JB):                    6.45e-306\n",
      "Kurtosis:                       7.702   Cond. No.                     7.58e+03\n",
      "==============================================================================\n",
      "\n",
      "Warnings:\n",
      "[1] Standard Errors assume that the covariance matrix of the errors is correctly specified.\n",
      "[2] The condition number is large, 7.58e+03. This might indicate that there are\n",
      "strong multicollinearity or other numerical problems.\n"
     ]
    }
   ],
   "source": [
    "print(result.summary())"
   ]
  },
  {
   "cell_type": "code",
   "execution_count": null,
   "metadata": {},
   "outputs": [],
   "source": []
  }
 ],
 "metadata": {
  "kernelspec": {
   "display_name": "Python 3",
   "language": "python",
   "name": "python3"
  },
  "language_info": {
   "codemirror_mode": {
    "name": "ipython",
    "version": 3
   },
   "file_extension": ".py",
   "mimetype": "text/x-python",
   "name": "python",
   "nbconvert_exporter": "python",
   "pygments_lexer": "ipython3",
   "version": "3.7.3"
  }
 },
 "nbformat": 4,
 "nbformat_minor": 2
}
